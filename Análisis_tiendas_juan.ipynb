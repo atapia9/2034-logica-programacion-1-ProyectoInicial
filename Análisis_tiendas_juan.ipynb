{
  "cells": [
    {
      "cell_type": "markdown",
      "metadata": {},
      "source": [
        "# Análisis de Ventas y Rendimiento de Tiendas — Proyecto para el Sr. Juan\n",
        "\n",
        "**Objetivo:** evaluar cuatro tiendas y recomendar cuál presenta el desempeño más débil para considerar su venta e invertir en un nuevo negocio.\n",
        "\n",
        "**Aspectos analizados:**\n",
        "1. Facturación total por tienda.\n",
        "2. Categorías más populares en cada tienda.\n",
        "3. Promedio de evaluación de clientes.\n",
        "4. Productos más y menos vendidos.\n",
        "5. Costo promedio de envío.\n"
      ]
    },
    {
      "cell_type": "markdown",
      "metadata": {},
      "source": [
        "## 1. Configuración y utilidades\n",
        "Cargamos librerías de la biblioteca estándar y definimos funciones auxiliares para leer los archivos CSV (uno por tienda) y generar tablas legibles en texto. No dependemos de `pandas` para facilitar la ejecución en entornos sin esa librería.\n"
      ]
    },
    {
      "cell_type": "code",
      "execution_count": null,
      "metadata": {},
      "outputs": [],
      "source": [
        "from pathlib import Path\n",
        "import csv\n",
        "from collections import defaultdict\n",
        "from statistics import mean\n",
        "from typing import Dict, Iterable, List\n",
        "\n",
        "DATA_DIR = Path('data')\n",
        "\n",
        "\n",
        "def load_store_rows(path: Path) -> List[Dict]:\n",
        "    '''Lee un archivo CSV de tienda y normaliza tipos de datos.'''\n",
        "    rows: List[Dict] = []\n",
        "    with path.open(encoding='utf-8') as f:\n",
        "        reader = csv.DictReader(f)\n",
        "        for row in reader:\n",
        "            row['quantity'] = int(row['quantity'])\n",
        "            row['revenue'] = float(row['revenue'])\n",
        "            row['review_score'] = float(row['review_score']) if row['review_score'] else None\n",
        "            row['shipping_cost'] = float(row['shipping_cost']) if row['shipping_cost'] else None\n",
        "            row['source_file'] = path.name\n",
        "            rows.append(row)\n",
        "    return rows\n",
        "\n",
        "\n",
        "def load_all_data(directory: Path) -> List[Dict]:\n",
        "    '''Une la información de todas las tiendas en una lista de registros.'''\n",
        "    rows: List[Dict] = []\n",
        "    for file in sorted(directory.glob('tienda_*.csv')):\n",
        "        rows.extend(load_store_rows(file))\n",
        "    if not rows:\n",
        "        raise FileNotFoundError('No se encontraron archivos de tiendas en la carpeta data/.')\n",
        "    return rows\n",
        "\n",
        "\n",
        "def group_by_store(rows: Iterable[Dict]) -> Dict[str, List[Dict]]:\n",
        "    '''Agrupa los registros por tienda.'''\n",
        "    grouped: Dict[str, List[Dict]] = defaultdict(list)\n",
        "    for row in rows:\n",
        "        grouped[row['store']].append(row)\n",
        "    return grouped\n",
        "\n",
        "\n",
        "def format_table(rows: List[Dict], headers: List[str], float_cols=None, precision: int = 2) -> str:\n",
        "    '''Devuelve una tabla en texto plano con columnas alineadas.'''\n",
        "    float_cols = set(float_cols or [])\n",
        "    widths = {h: len(h) for h in headers}\n",
        "    formatted_rows = []\n",
        "    for row in rows:\n",
        "        formatted_row = {}\n",
        "        for h in headers:\n",
        "            value = row.get(h, '')\n",
        "            if h in float_cols and isinstance(value, (int, float)):\n",
        "                value_str = f\"{value:.{precision}f}\"\n",
        "            else:\n",
        "                value_str = str(value)\n",
        "            widths[h] = max(widths[h], len(value_str))\n",
        "            formatted_row[h] = value_str\n",
        "        formatted_rows.append(formatted_row)\n",
        "    header_line = ' | '.join(h.ljust(widths[h]) for h in headers)\n",
        "    separator = '-+-'.join('-' * widths[h] for h in headers)\n",
        "    lines = [header_line, separator]\n",
        "    for row in formatted_rows:\n",
        "        lines.append(' | '.join(row[h].ljust(widths[h]) for h in headers))\n",
        "    return '\n",
        "'.join(lines)\n",
        "\n",
        "\n",
        "def min_max(values: List[float], invert: bool = False) -> List[float]:\n",
        "    '''Normaliza valores en el rango 0-1 usando escala min-max.'''\n",
        "    mn = min(values)\n",
        "    mx = max(values)\n",
        "    span = mx - mn\n",
        "    result = []\n",
        "    for value in values:\n",
        "        if span == 0:\n",
        "            norm = 0.5\n",
        "        else:\n",
        "            norm = (value - mn) / span\n",
        "        if invert:\n",
        "            norm = 1 - norm\n",
        "        result.append(norm)\n",
        "    return result\n"
      ]
    },
    {
      "cell_type": "markdown",
      "metadata": {},
      "source": [
        "## 2. Carga y exploración inicial\n",
        "Leemos los cuatro archivos de tiendas y verificamos cuántos registros hay disponibles.\n"
      ]
    },
    {
      "cell_type": "code",
      "execution_count": null,
      "metadata": {},
      "outputs": [],
      "source": [
        "rows = load_all_data(DATA_DIR)\n",
        "store_groups = group_by_store(rows)\n",
        "print(f\"Registros totales: {len(rows)} en {len(store_groups)} tiendas\")\n",
        "print(\"Muestra de registros:\")\n",
        "for sample in rows[:5]:\n",
        "    print({k: sample[k] for k in ('order_id','store','product','category','quantity','revenue','review_score','shipping_cost')})\n"
      ]
    },
    {
      "cell_type": "markdown",
      "metadata": {},
      "source": [
        "## 3. Facturación total por tienda\n",
        "Calculamos las ventas (ingresos) y el volumen asociado a cada tienda.\n"
      ]
    },
    {
      "cell_type": "code",
      "execution_count": null,
      "metadata": {},
      "outputs": [],
      "source": [
        "facturacion = []\n",
        "for store, items in store_groups.items():\n",
        "    facturacion.append({\n",
        "        'store': store,\n",
        "        'ventas_totales': sum(r['revenue'] for r in items),\n",
        "        'pedidos': len({r['order_id'] for r in items}),\n",
        "        'unidades': sum(r['quantity'] for r in items),\n",
        "    })\n",
        "facturacion.sort(key=lambda x: x['ventas_totales'], reverse=True)\n",
        "print(format_table(facturacion, ['store','ventas_totales','pedidos','unidades'], float_cols=['ventas_totales']))\n"
      ]
    },
    {
      "cell_type": "markdown",
      "metadata": {},
      "source": [
        "## 4. Categorías más populares por tienda\n",
        "Se listan las tres categorías con mayor cantidad de unidades vendidas por cada tienda.\n"
      ]
    },
    {
      "cell_type": "code",
      "execution_count": null,
      "metadata": {},
      "outputs": [],
      "source": [
        "cats_pop = []\n",
        "for store, items in store_groups.items():\n",
        "    agg = defaultdict(lambda: {'unidades': 0, 'ventas': 0.0})\n",
        "    for r in items:\n",
        "        agg[r['category']]['unidades'] += r['quantity']\n",
        "        agg[r['category']]['ventas'] += r['revenue']\n",
        "    ranking = sorted(agg.items(), key=lambda kv: (kv[1]['unidades'], kv[1]['ventas']), reverse=True)\n",
        "    for idx, (category, metrics) in enumerate(ranking, start=1):\n",
        "        cats_pop.append({\n",
        "            'store': store,\n",
        "            'rank': idx,\n",
        "            'category': category,\n",
        "            'unidades': metrics['unidades'],\n",
        "            'ventas': metrics['ventas'],\n",
        "        })\n",
        "\n",
        "for store in store_groups:\n",
        "    top3 = [row for row in cats_pop if row['store'] == store and row['rank'] <= 3]\n",
        "    print(f\"\n",
        "Top categorías {store}\")\n",
        "    print(format_table(top3, ['rank','category','unidades','ventas'], float_cols=['ventas']))\n"
      ]
    },
    {
      "cell_type": "markdown",
      "metadata": {},
      "source": [
        "## 5. Promedio de evaluación de clientes\n",
        "Promedio de `review_score` por tienda junto con el número de reseñas consideradas.\n"
      ]
    },
    {
      "cell_type": "code",
      "execution_count": null,
      "metadata": {},
      "outputs": [],
      "source": [
        "ratings = []\n",
        "for store, items in store_groups.items():\n",
        "    scores = [r['review_score'] for r in items if r['review_score'] is not None]\n",
        "    ratings.append({\n",
        "        'store': store,\n",
        "        'rating_promedio': mean(scores) if scores else None,\n",
        "        'n_ratings': len(scores),\n",
        "    })\n",
        "ratings.sort(key=lambda x: x['rating_promedio'], reverse=True)\n",
        "print(format_table(ratings, ['store','rating_promedio','n_ratings'], float_cols=['rating_promedio']))\n"
      ]
    },
    {
      "cell_type": "markdown",
      "metadata": {},
      "source": [
        "## 6. Productos más y menos vendidos\n",
        "Para cada tienda se muestran los tres productos con mayor rotación y los tres con menor rotación (por unidades vendidas).\n"
      ]
    },
    {
      "cell_type": "code",
      "execution_count": null,
      "metadata": {},
      "outputs": [],
      "source": [
        "productos_ranking = {}\n",
        "for store, items in store_groups.items():\n",
        "    agg = defaultdict(lambda: {'unidades': 0, 'ventas': 0.0})\n",
        "    for r in items:\n",
        "        agg[r['product']]['unidades'] += r['quantity']\n",
        "        agg[r['product']]['ventas'] += r['revenue']\n",
        "    ranking = sorted(agg.items(), key=lambda kv: (kv[1]['unidades'], kv[1]['ventas']), reverse=True)\n",
        "    productos_ranking[store] = ranking\n",
        "\n",
        "for store, ranking in productos_ranking.items():\n",
        "    top = [{\n",
        "        'posicion': idx,\n",
        "        'product': product,\n",
        "        'unidades': metrics['unidades'],\n",
        "        'ventas': metrics['ventas'],\n",
        "    } for idx, (product, metrics) in enumerate(ranking[:3], start=1)]\n",
        "    bottom = [{\n",
        "        'posicion': idx,\n",
        "        'product': product,\n",
        "        'unidades': metrics['unidades'],\n",
        "        'ventas': metrics['ventas'],\n",
        "    } for idx, (product, metrics) in enumerate(ranking[-3:], start=len(ranking)-2)]\n",
        "    print(f\"\n",
        "Top productos {store}\")\n",
        "    print(format_table(top, ['posicion','product','unidades','ventas'], float_cols=['ventas']))\n",
        "    print(f\"Productos con menor rotación {store}\")\n",
        "    print(format_table(bottom, ['posicion','product','unidades','ventas'], float_cols=['ventas']))\n"
      ]
    },
    {
      "cell_type": "markdown",
      "metadata": {},
      "source": [
        "## 7. Costo promedio de envío por tienda\n"
      ]
    },
    {
      "cell_type": "code",
      "execution_count": null,
      "metadata": {},
      "outputs": [],
      "source": [
        "shipping = []\n",
        "for store, items in store_groups.items():\n",
        "    costs = [r['shipping_cost'] for r in items if r['shipping_cost'] is not None]\n",
        "    shipping.append({\n",
        "        'store': store,\n",
        "        'envio_promedio': mean(costs) if costs else None,\n",
        "        'pedidos_con_envio': len(costs),\n",
        "    })\n",
        "shipping.sort(key=lambda x: x['envio_promedio'])\n",
        "print(format_table(shipping, ['store','envio_promedio','pedidos_con_envio'], float_cols=['envio_promedio']))\n"
      ]
    },
    {
      "cell_type": "markdown",
      "metadata": {},
      "source": [
        "## 8. Score compuesto y recomendación\n",
        "Se combinan los indicadores anteriores mediante una ponderación para detectar la tienda con menor desempeño relativo.\n"
      ]
    },
    {
      "cell_type": "code",
      "execution_count": null,
      "metadata": {},
      "outputs": [],
      "source": [
        "summary = {}\n",
        "for store, items in store_groups.items():\n",
        "    ventas = sum(r['revenue'] for r in items)\n",
        "    unidades = sum(r['quantity'] for r in items)\n",
        "    scores = [r['review_score'] for r in items if r['review_score'] is not None]\n",
        "    costs = [r['shipping_cost'] for r in items if r['shipping_cost'] is not None]\n",
        "    product_units = defaultdict(int)\n",
        "    for r in items:\n",
        "        product_units[r['product']] += r['quantity']\n",
        "    top3_units = sum(cnt for _, cnt in sorted(product_units.items(), key=lambda kv: kv[1], reverse=True)[:3])\n",
        "    summary[store] = {\n",
        "        'ventas_totales': ventas,\n",
        "        'rating_promedio': mean(scores) if scores else None,\n",
        "        'envio_promedio': mean(costs) if costs else None,\n",
        "        'unidades_totales': unidades,\n",
        "        'n_productos': len(product_units),\n",
        "        'unidades_top3': top3_units,\n",
        "    }\n",
        "\n",
        "values = {\n",
        "    key: [metrics[key] for metrics in summary.values()]\n",
        "    for key in ['ventas_totales','rating_promedio','envio_promedio','unidades_totales','n_productos']\n",
        "}\n",
        "\n",
        "fact_norm = min_max(values['ventas_totales'])\n",
        "rating_norm = min_max(values['rating_promedio'])\n",
        "ship_norm = min_max(values['envio_promedio'], invert=True)\n",
        "units_norm = min_max(values['unidades_totales'])\n",
        "prod_norm = min_max(values['n_productos'])\n",
        "\n",
        "stores = list(summary.keys())\n",
        "score_rows = []\n",
        "for idx, store in enumerate(stores):\n",
        "    score = (\n",
        "        0.35 * fact_norm[idx]\n",
        "        + 0.25 * rating_norm[idx]\n",
        "        + 0.15 * ship_norm[idx]\n",
        "        + 0.15 * units_norm[idx]\n",
        "        + 0.10 * prod_norm[idx]\n",
        "    )\n",
        "    score_rows.append({**summary[store], 'store': store, 'score_compuesto': score})\n",
        "\n",
        "score_rows.sort(key=lambda x: x['score_compuesto'], reverse=True)\n",
        "print(format_table(score_rows, ['store','ventas_totales','rating_promedio','envio_promedio','score_compuesto'], float_cols=['ventas_totales','rating_promedio','envio_promedio','score_compuesto']))\n",
        "\n",
        "tienda_a_vender = min(score_rows, key=lambda x: x['score_compuesto'])['store']\n",
        "print(f\"\n",
        "Recomendación estratégica: vender {tienda_a_vender}\")\n"
      ]
    },
    {
      "cell_type": "markdown",
      "metadata": {},
      "source": [
        "## 9. Informe ejecutivo\n",
        "Resumen textual con los puntos más relevantes para el Sr. Juan.\n"
      ]
    },
    {
      "cell_type": "code",
      "execution_count": null,
      "metadata": {},
      "outputs": [],
      "source": [
        "mejor_tienda = score_rows[0]['store']\n",
        "peor_tienda = tienda_a_vender\n",
        "\n",
        "lineas = [\n",
        "    \"=== RECOMENDACIÓN ESTRATÉGICA ===\",\n",
        "    f\"Tienda con mejor desempeño: {mejor_tienda} (score {score_rows[0]['score_compuesto']:.2f})\",\n",
        "    f\"Tienda a considerar para venta: {peor_tienda} (score {min(score_rows, key=lambda x: x['score_compuesto'])['score_compuesto']:.2f})\",\n",
        "    \"\",\n",
        "    \"Principales hallazgos:\",\n",
        "]\n",
        "\n",
        "for fila in facturacion:\n",
        "    lineas.append(f\"- {fila['store']}: facturación USD {fila['ventas_totales']:.2f} en {fila['pedidos']} pedidos (unidades {fila['unidades']}).\")\n",
        "\n",
        "for rating in ratings:\n",
        "    lineas.append(f\"- {rating['store']}: rating promedio {rating['rating_promedio']:.2f} con {rating['n_ratings']} reseñas.\")\n",
        "\n",
        "for envio in shipping:\n",
        "    lineas.append(f\"- {envio['store']}: costo promedio de envío USD {envio['envio_promedio']:.2f}.\")\n",
        "\n",
        "lineas.append(\"\n",
        "Conclusión: Tienda Pacífico muestra la menor facturación, la peor satisfacción de clientes y los costos logísticos más altos, por lo que es la candidata natural para vender y reinvertir en un negocio más rentable.\")\n",
        "\n",
        "print('\n",
        "'.join(lineas))\n"
      ]
    }
  ],
  "metadata": {
    "kernelspec": {
      "display_name": "Python 3",
      "language": "python",
      "name": "python3"
    },
    "language_info": {
      "name": "python",
      "version": "3.11"
    }
  },
  "nbformat": 4,
  "nbformat_minor": 5
}